{
 "cells": [
  {
   "cell_type": "markdown",
   "metadata": {
    "colab_type": "text"
   },
   "source": [
    "This is a companion notebook for the book [Deep Learning with Python, Second Edition](https://www.manning.com/books/deep-learning-with-python-second-edition?a_aid=keras&a_bid=76564dff). For readability, it only contains runnable code blocks and section titles, and omits everything else in the book: text paragraphs, figures, and pseudocode.\n",
    "\n",
    "**If you want to be able to follow what's going on, I recommend reading the notebook side by side with your copy of the book.**\n",
    "\n",
    "This notebook was generated for TensorFlow 2.6."
   ]
  },
  {
   "cell_type": "markdown",
   "metadata": {
    "colab_type": "text"
   },
   "source": [
    "# Fundamentals of machine learning"
   ]
  },
  {
   "cell_type": "markdown",
   "metadata": {
    "colab_type": "text"
   },
   "source": [
    "## Generalization: The goal of machine learning"
   ]
  },
  {
   "cell_type": "markdown",
   "metadata": {
    "colab_type": "text"
   },
   "source": [
    "### Underfitting and overfitting"
   ]
  },
  {
   "cell_type": "markdown",
   "metadata": {
    "colab_type": "text"
   },
   "source": [
    "#### Noisy training data"
   ]
  },
  {
   "cell_type": "markdown",
   "metadata": {
    "colab_type": "text"
   },
   "source": [
    "#### Ambiguous features"
   ]
  },
  {
   "cell_type": "markdown",
   "metadata": {
    "colab_type": "text"
   },
   "source": [
    "#### Rare features and spurious correlations"
   ]
  },
  {
   "cell_type": "markdown",
   "metadata": {
    "colab_type": "text"
   },
   "source": [
    "**Adding white-noise channels or all-zeros channels to MNIST**"
   ]
  },
  {
   "cell_type": "code",
   "execution_count": 1,
   "metadata": {
    "colab_type": "code"
   },
   "outputs": [],
   "source": [
    "from tensorflow.keras.datasets import mnist\n",
    "import numpy as np\n",
    "\n",
    "(train_images, train_labels), _ = mnist.load_data()\n",
    "train_images = train_images.reshape((60000, 28 * 28))\n",
    "train_images = train_images.astype(\"float32\") / 255\n",
    "\n",
    "train_images_with_noise_channels = np.concatenate(\n",
    "    [train_images, np.random.random((len(train_images), 784))], axis=1)\n",
    "\n",
    "train_images_with_zeros_channels = np.concatenate(\n",
    "    [train_images, np.zeros((len(train_images), 784))], axis=1)"
   ]
  },
  {
   "cell_type": "markdown",
   "metadata": {
    "colab_type": "text"
   },
   "source": [
    "**Training the same model on MNIST data with noise channels or all-zero channels**"
   ]
  },
  {
   "cell_type": "code",
   "execution_count": 2,
   "metadata": {
    "colab_type": "code"
   },
   "outputs": [
    {
     "name": "stdout",
     "output_type": "stream",
     "text": [
      "Epoch 1/10\n",
      "375/375 [==============================] - 3s 3ms/step - loss: 0.6213 - accuracy: 0.8103 - val_loss: 0.5295 - val_accuracy: 0.8173\n",
      "Epoch 2/10\n",
      "375/375 [==============================] - 1s 3ms/step - loss: 0.2592 - accuracy: 0.9187 - val_loss: 0.2521 - val_accuracy: 0.9217\n",
      "Epoch 3/10\n",
      "375/375 [==============================] - 1s 3ms/step - loss: 0.1655 - accuracy: 0.9492 - val_loss: 0.1550 - val_accuracy: 0.9530\n",
      "Epoch 4/10\n",
      "375/375 [==============================] - 1s 3ms/step - loss: 0.1154 - accuracy: 0.9646 - val_loss: 0.1393 - val_accuracy: 0.9581\n",
      "Epoch 5/10\n",
      "375/375 [==============================] - 1s 3ms/step - loss: 0.0846 - accuracy: 0.9732 - val_loss: 0.1904 - val_accuracy: 0.9439\n",
      "Epoch 6/10\n",
      "375/375 [==============================] - 1s 3ms/step - loss: 0.0608 - accuracy: 0.9802 - val_loss: 0.1712 - val_accuracy: 0.9513\n",
      "Epoch 7/10\n",
      "375/375 [==============================] - 1s 3ms/step - loss: 0.0464 - accuracy: 0.9858 - val_loss: 0.1198 - val_accuracy: 0.9669\n",
      "Epoch 8/10\n",
      "375/375 [==============================] - 1s 3ms/step - loss: 0.0354 - accuracy: 0.9883 - val_loss: 0.1662 - val_accuracy: 0.9554\n",
      "Epoch 9/10\n",
      "375/375 [==============================] - 1s 3ms/step - loss: 0.0265 - accuracy: 0.9915 - val_loss: 0.1383 - val_accuracy: 0.9677\n",
      "Epoch 10/10\n",
      "375/375 [==============================] - 1s 3ms/step - loss: 0.0204 - accuracy: 0.9935 - val_loss: 0.1383 - val_accuracy: 0.9672\n",
      "Epoch 1/10\n",
      "375/375 [==============================] - 2s 3ms/step - loss: 0.2877 - accuracy: 0.9160 - val_loss: 0.1678 - val_accuracy: 0.9519\n",
      "Epoch 2/10\n",
      "375/375 [==============================] - 1s 3ms/step - loss: 0.1185 - accuracy: 0.9651 - val_loss: 0.1088 - val_accuracy: 0.9684\n",
      "Epoch 3/10\n",
      "375/375 [==============================] - 1s 3ms/step - loss: 0.0791 - accuracy: 0.9764 - val_loss: 0.0944 - val_accuracy: 0.9737\n",
      "Epoch 4/10\n",
      "375/375 [==============================] - 1s 3ms/step - loss: 0.0571 - accuracy: 0.9830 - val_loss: 0.0850 - val_accuracy: 0.9745\n",
      "Epoch 5/10\n",
      "375/375 [==============================] - 1s 3ms/step - loss: 0.0426 - accuracy: 0.9876 - val_loss: 0.0860 - val_accuracy: 0.9761\n",
      "Epoch 6/10\n",
      "375/375 [==============================] - 1s 3ms/step - loss: 0.0321 - accuracy: 0.9905 - val_loss: 0.0854 - val_accuracy: 0.9772\n",
      "Epoch 7/10\n",
      "375/375 [==============================] - 1s 3ms/step - loss: 0.0247 - accuracy: 0.9924 - val_loss: 0.0895 - val_accuracy: 0.9765\n",
      "Epoch 8/10\n",
      "375/375 [==============================] - 1s 3ms/step - loss: 0.0184 - accuracy: 0.9949 - val_loss: 0.0836 - val_accuracy: 0.9789\n",
      "Epoch 9/10\n",
      "375/375 [==============================] - 1s 3ms/step - loss: 0.0142 - accuracy: 0.9961 - val_loss: 0.0875 - val_accuracy: 0.9788\n",
      "Epoch 10/10\n",
      "375/375 [==============================] - 1s 3ms/step - loss: 0.0109 - accuracy: 0.9970 - val_loss: 0.0903 - val_accuracy: 0.9770\n"
     ]
    }
   ],
   "source": [
    "from tensorflow import keras\n",
    "from tensorflow.keras import layers\n",
    "\n",
    "def get_model():\n",
    "    model = keras.Sequential([\n",
    "        layers.Dense(512, activation=\"relu\"),\n",
    "        layers.Dense(10, activation=\"softmax\")\n",
    "    ])\n",
    "    model.compile(optimizer=\"rmsprop\",\n",
    "                  loss=\"sparse_categorical_crossentropy\",\n",
    "                  metrics=[\"accuracy\"])\n",
    "    return model\n",
    "\n",
    "model = get_model()\n",
    "history_noise = model.fit(\n",
    "    train_images_with_noise_channels, train_labels,\n",
    "    epochs=10,\n",
    "    batch_size=128,\n",
    "    validation_split=0.2)\n",
    "\n",
    "model = get_model()\n",
    "history_zeros = model.fit(\n",
    "    train_images_with_zeros_channels, train_labels,\n",
    "    epochs=10,\n",
    "    batch_size=128,\n",
    "    validation_split=0.2)"
   ]
  },
  {
   "cell_type": "markdown",
   "metadata": {
    "colab_type": "text"
   },
   "source": [
    "**Plotting a validation accuracy comparison**"
   ]
  },
  {
   "cell_type": "code",
   "execution_count": 3,
   "metadata": {
    "colab_type": "code"
   },
   "outputs": [
    {
     "data": {
      "text/plain": [
       "<matplotlib.legend.Legend at 0x20c8dd3a3d0>"
      ]
     },
     "execution_count": 3,
     "metadata": {},
     "output_type": "execute_result"
    },
    {
     "data": {
      "image/png": "[encoded data removed]",
      "text/plain": [
       "<Figure size 432x288 with 1 Axes>"
      ]
     },
     "metadata": {
      "needs_background": "light"
     },
     "output_type": "display_data"
    }
   ],
   "source": [
    "import matplotlib.pyplot as plt\n",
    "val_acc_noise = history_noise.history[\"val_accuracy\"]\n",
    "val_acc_zeros = history_zeros.history[\"val_accuracy\"]\n",
    "epochs = range(1, 11)\n",
    "plt.plot(epochs, val_acc_noise, \"b-\",\n",
    "         label=\"Validation accuracy with noise channels\")\n",
    "plt.plot(epochs, val_acc_zeros, \"b--\",\n",
    "         label=\"Validation accuracy with zeros channels\")\n",
    "plt.title(\"Effect of noise channels on validation accuracy\")\n",
    "plt.xlabel(\"Epochs\")\n",
    "plt.ylabel(\"Accuracy\")\n",
    "plt.legend()"
   ]
  },
  {
   "cell_type": "markdown",
   "metadata": {
    "colab_type": "text"
   },
   "source": [
    "### The nature of generalization in deep learning"
   ]
  },
  {
   "cell_type": "markdown",
   "metadata": {
    "colab_type": "text"
   },
   "source": [
    "**Fitting a MNIST model with randomly shuffled labels**"
   ]
  },
  {
   "cell_type": "code",
   "execution_count": 4,
   "metadata": {
    "colab_type": "code"
   },
   "outputs": [
    {
     "name": "stdout",
     "output_type": "stream",
     "text": [
      "Epoch 1/50\n",
      "375/375 [==============================] - 1s 3ms/step - loss: 2.3161 - accuracy: 0.1037 - val_loss: 2.3064 - val_accuracy: 0.1074\n",
      "Epoch 2/50\n",
      "375/375 [==============================] - 1s 3ms/step - loss: 2.3001 - accuracy: 0.1172 - val_loss: 2.3137 - val_accuracy: 0.1050\n",
      "Epoch 3/50\n",
      "375/375 [==============================] - 1s 3ms/step - loss: 2.2904 - accuracy: 0.1288 - val_loss: 2.3144 - val_accuracy: 0.1065\n",
      "Epoch 4/50\n",
      "375/375 [==============================] - 1s 3ms/step - loss: 2.2774 - accuracy: 0.1400 - val_loss: 2.3243 - val_accuracy: 0.1023\n",
      "Epoch 5/50\n",
      "375/375 [==============================] - 1s 3ms/step - loss: 2.2602 - accuracy: 0.1546 - val_loss: 2.3355 - val_accuracy: 0.0988\n",
      "Epoch 6/50\n",
      "375/375 [==============================] - 1s 3ms/step - loss: 2.2382 - accuracy: 0.1654 - val_loss: 2.3413 - val_accuracy: 0.1041\n",
      "Epoch 7/50\n",
      "375/375 [==============================] - 1s 3ms/step - loss: 2.2143 - accuracy: 0.1833 - val_loss: 2.3629 - val_accuracy: 0.1045\n",
      "Epoch 8/50\n",
      "375/375 [==============================] - 1s 3ms/step - loss: 2.1878 - accuracy: 0.1995 - val_loss: 2.3839 - val_accuracy: 0.1006\n",
      "Epoch 9/50\n",
      "375/375 [==============================] - 1s 3ms/step - loss: 2.1572 - accuracy: 0.2160 - val_loss: 2.3970 - val_accuracy: 0.1041\n",
      "Epoch 10/50\n",
      "375/375 [==============================] - 1s 3ms/step - loss: 2.1257 - accuracy: 0.2318 - val_loss: 2.4266 - val_accuracy: 0.1005\n",
      "Epoch 11/50\n",
      "375/375 [==============================] - 1s 3ms/step - loss: 2.0947 - accuracy: 0.2465 - val_loss: 2.4472 - val_accuracy: 0.1003\n",
      "Epoch 12/50\n",
      "375/375 [==============================] - 1s 3ms/step - loss: 2.0598 - accuracy: 0.2626 - val_loss: 2.4699 - val_accuracy: 0.1018\n",
      "Epoch 13/50\n",
      "375/375 [==============================] - 1s 3ms/step - loss: 2.0281 - accuracy: 0.2765 - val_loss: 2.4949 - val_accuracy: 0.0969\n",
      "Epoch 14/50\n",
      "375/375 [==============================] - 1s 3ms/step - loss: 1.9927 - accuracy: 0.2917 - val_loss: 2.5330 - val_accuracy: 0.1015\n",
      "Epoch 15/50\n",
      "375/375 [==============================] - 1s 3ms/step - loss: 1.9565 - accuracy: 0.3078 - val_loss: 2.5604 - val_accuracy: 0.0986\n",
      "Epoch 16/50\n",
      "375/375 [==============================] - 1s 3ms/step - loss: 1.9219 - accuracy: 0.3251 - val_loss: 2.5946 - val_accuracy: 0.0980\n",
      "Epoch 17/50\n",
      "375/375 [==============================] - 1s 3ms/step - loss: 1.8905 - accuracy: 0.3344 - val_loss: 2.6211 - val_accuracy: 0.0989\n",
      "Epoch 18/50\n",
      "375/375 [==============================] - 1s 3ms/step - loss: 1.8537 - accuracy: 0.3501 - val_loss: 2.6504 - val_accuracy: 0.1000\n",
      "Epoch 19/50\n",
      "375/375 [==============================] - 1s 3ms/step - loss: 1.8221 - accuracy: 0.3644 - val_loss: 2.6878 - val_accuracy: 0.1050\n",
      "Epoch 20/50\n",
      "375/375 [==============================] - 1s 3ms/step - loss: 1.7892 - accuracy: 0.3765 - val_loss: 2.7198 - val_accuracy: 0.1024\n",
      "Epoch 21/50\n",
      "375/375 [==============================] - 1s 3ms/step - loss: 1.7563 - accuracy: 0.3889 - val_loss: 2.7633 - val_accuracy: 0.1013\n",
      "Epoch 22/50\n",
      "375/375 [==============================] - 1s 3ms/step - loss: 1.7249 - accuracy: 0.4021 - val_loss: 2.8051 - val_accuracy: 0.1024\n",
      "Epoch 23/50\n",
      "375/375 [==============================] - 1s 3ms/step - loss: 1.6949 - accuracy: 0.4164 - val_loss: 2.8472 - val_accuracy: 0.0986\n",
      "Epoch 24/50\n",
      "375/375 [==============================] - 1s 3ms/step - loss: 1.6661 - accuracy: 0.4247 - val_loss: 2.9014 - val_accuracy: 0.0968\n",
      "Epoch 25/50\n",
      "375/375 [==============================] - 1s 3ms/step - loss: 1.6367 - accuracy: 0.4342 - val_loss: 2.9191 - val_accuracy: 0.0995\n",
      "Epoch 26/50\n",
      "375/375 [==============================] - 1s 3ms/step - loss: 1.6069 - accuracy: 0.4444 - val_loss: 2.9718 - val_accuracy: 0.1008\n",
      "Epoch 27/50\n",
      "375/375 [==============================] - 1s 3ms/step - loss: 1.5795 - accuracy: 0.4559 - val_loss: 3.0133 - val_accuracy: 0.0999\n",
      "Epoch 28/50\n",
      "375/375 [==============================] - 1s 3ms/step - loss: 1.5526 - accuracy: 0.4663 - val_loss: 3.0534 - val_accuracy: 0.0983\n",
      "Epoch 29/50\n",
      "375/375 [==============================] - 1s 3ms/step - loss: 1.5245 - accuracy: 0.4806 - val_loss: 3.1029 - val_accuracy: 0.1000\n",
      "Epoch 30/50\n",
      "375/375 [==============================] - 1s 3ms/step - loss: 1.5007 - accuracy: 0.4851 - val_loss: 3.1290 - val_accuracy: 0.0986\n",
      "Epoch 31/50\n",
      "375/375 [==============================] - 1s 3ms/step - loss: 1.4711 - accuracy: 0.4972 - val_loss: 3.1670 - val_accuracy: 0.1007\n",
      "Epoch 32/50\n",
      "375/375 [==============================] - 1s 3ms/step - loss: 1.4485 - accuracy: 0.5067 - val_loss: 3.2263 - val_accuracy: 0.0988\n",
      "Epoch 33/50\n",
      "375/375 [==============================] - 1s 3ms/step - loss: 1.4263 - accuracy: 0.5125 - val_loss: 3.2673 - val_accuracy: 0.0961\n",
      "Epoch 34/50\n",
      "375/375 [==============================] - 1s 3ms/step - loss: 1.4004 - accuracy: 0.5242 - val_loss: 3.3149 - val_accuracy: 0.0988\n",
      "Epoch 35/50\n",
      "375/375 [==============================] - 1s 3ms/step - loss: 1.3792 - accuracy: 0.5297 - val_loss: 3.3778 - val_accuracy: 0.0982\n",
      "Epoch 36/50\n",
      "375/375 [==============================] - 1s 3ms/step - loss: 1.3574 - accuracy: 0.5421 - val_loss: 3.4010 - val_accuracy: 0.0967\n",
      "Epoch 37/50\n",
      "375/375 [==============================] - 1s 3ms/step - loss: 1.3346 - accuracy: 0.5473 - val_loss: 3.4553 - val_accuracy: 0.0997\n",
      "Epoch 38/50\n",
      "375/375 [==============================] - 1s 3ms/step - loss: 1.3118 - accuracy: 0.5555 - val_loss: 3.5172 - val_accuracy: 0.0986\n",
      "Epoch 39/50\n",
      "375/375 [==============================] - 1s 3ms/step - loss: 1.2912 - accuracy: 0.5618 - val_loss: 3.5631 - val_accuracy: 0.1030\n",
      "Epoch 40/50\n",
      "375/375 [==============================] - 1s 3ms/step - loss: 1.2714 - accuracy: 0.5700 - val_loss: 3.5904 - val_accuracy: 0.0989\n",
      "Epoch 41/50\n",
      "375/375 [==============================] - 1s 3ms/step - loss: 1.2495 - accuracy: 0.5778 - val_loss: 3.6641 - val_accuracy: 0.1013\n",
      "Epoch 42/50\n",
      "375/375 [==============================] - 1s 3ms/step - loss: 1.2291 - accuracy: 0.5870 - val_loss: 3.6913 - val_accuracy: 0.0961\n",
      "Epoch 43/50\n",
      "375/375 [==============================] - 1s 3ms/step - loss: 1.2083 - accuracy: 0.5932 - val_loss: 3.7761 - val_accuracy: 0.0997\n",
      "Epoch 44/50\n",
      "375/375 [==============================] - 1s 3ms/step - loss: 1.1903 - accuracy: 0.5991 - val_loss: 3.8109 - val_accuracy: 0.0989\n",
      "Epoch 45/50\n",
      "375/375 [==============================] - 1s 3ms/step - loss: 1.1696 - accuracy: 0.6066 - val_loss: 3.8856 - val_accuracy: 0.1009\n",
      "Epoch 46/50\n",
      "375/375 [==============================] - 1s 3ms/step - loss: 1.1525 - accuracy: 0.6112 - val_loss: 3.9181 - val_accuracy: 0.1002\n",
      "Epoch 47/50\n",
      "375/375 [==============================] - 1s 3ms/step - loss: 1.1344 - accuracy: 0.6199 - val_loss: 3.9411 - val_accuracy: 0.0992\n",
      "Epoch 48/50\n",
      "375/375 [==============================] - 1s 3ms/step - loss: 1.1171 - accuracy: 0.6246 - val_loss: 4.0058 - val_accuracy: 0.0990\n",
      "Epoch 49/50\n",
      "375/375 [==============================] - 1s 3ms/step - loss: 1.0974 - accuracy: 0.6338 - val_loss: 4.0462 - val_accuracy: 0.0987\n",
      "Epoch 50/50\n",
      "375/375 [==============================] - 1s 3ms/step - loss: 1.0817 - accuracy: 0.6374 - val_loss: 4.1362 - val_accuracy: 0.1006\n"
     ]
    },
    {
     "data": {
      "text/plain": [
       "<tensorflow.python.keras.callbacks.History at 0x20afa97ed90>"
      ]
     },
     "execution_count": 4,
     "metadata": {},
     "output_type": "execute_result"
    }
   ],
   "source": [
    "(train_images, train_labels), _ = mnist.load_data()\n",
    "train_images = train_images.reshape((60000, 28 * 28))\n",
    "train_images = train_images.astype(\"float32\") / 255\n",
    "\n",
    "random_train_labels = train_labels[:]\n",
    "np.random.shuffle(random_train_labels)\n",
    "\n",
    "model = keras.Sequential([\n",
    "    layers.Dense(512, activation=\"relu\"),\n",
    "    layers.Dense(10, activation=\"softmax\")\n",
    "])\n",
    "model.compile(optimizer=\"rmsprop\",\n",
    "              loss=\"sparse_categorical_crossentropy\",\n",
    "              metrics=[\"accuracy\"])\n",
    "model.fit(train_images, random_train_labels,\n",
    "          epochs=50,#100>>50\n",
    "          batch_size=128,\n",
    "          validation_split=0.2)"
   ]
  },
  {
   "cell_type": "markdown",
   "metadata": {
    "colab_type": "text"
   },
   "source": [
    "#### The manifold hypothesis"
   ]
  },
  {
   "cell_type": "markdown",
   "metadata": {
    "colab_type": "text"
   },
   "source": [
    "#### Interpolation as a source of generalization"
   ]
  },
  {
   "cell_type": "markdown",
   "metadata": {
    "colab_type": "text"
   },
   "source": [
    "#### Why deep learning works"
   ]
  },
  {
   "cell_type": "markdown",
   "metadata": {
    "colab_type": "text"
   },
   "source": [
    "#### Training data is paramount"
   ]
  },
  {
   "cell_type": "markdown",
   "metadata": {
    "colab_type": "text"
   },
   "source": [
    "## Evaluating machine-learning models"
   ]
  },
  {
   "cell_type": "markdown",
   "metadata": {
    "colab_type": "text"
   },
   "source": [
    "### Training, validation, and test sets"
   ]
  },
  {
   "cell_type": "markdown",
   "metadata": {
    "colab_type": "text"
   },
   "source": [
    "#### Simple hold-out validation"
   ]
  },
  {
   "cell_type": "markdown",
   "metadata": {
    "colab_type": "text"
   },
   "source": [
    "#### K-fold validation"
   ]
  },
  {
   "cell_type": "markdown",
   "metadata": {
    "colab_type": "text"
   },
   "source": [
    "#### Iterated K-fold validation with shuffling"
   ]
  },
  {
   "cell_type": "markdown",
   "metadata": {
    "colab_type": "text"
   },
   "source": [
    "### Beating a common-sense baseline"
   ]
  },
  {
   "cell_type": "markdown",
   "metadata": {
    "colab_type": "text"
   },
   "source": [
    "### Things to keep in mind about model evaluation"
   ]
  },
  {
   "cell_type": "markdown",
   "metadata": {
    "colab_type": "text"
   },
   "source": [
    "## Improving model fit"
   ]
  },
  {
   "cell_type": "markdown",
   "metadata": {
    "colab_type": "text"
   },
   "source": [
    "### Tuning key gradient descent parameters"
   ]
  },
  {
   "cell_type": "markdown",
   "metadata": {
    "colab_type": "text"
   },
   "source": [
    "**Training a MNIST model with an incorrectly high learning rate**"
   ]
  },
  {
   "cell_type": "code",
   "execution_count": 5,
   "metadata": {
    "colab_type": "code"
   },
   "outputs": [
    {
     "name": "stdout",
     "output_type": "stream",
     "text": [
      "Epoch 1/10\n",
      "375/375 [==============================] - 1s 3ms/step - loss: 749.6042 - accuracy: 0.3374 - val_loss: 2.4474 - val_accuracy: 0.2477\n",
      "Epoch 2/10\n",
      "375/375 [==============================] - 1s 2ms/step - loss: 3.2500 - accuracy: 0.2107 - val_loss: 2.2465 - val_accuracy: 0.2373\n",
      "Epoch 3/10\n",
      "375/375 [==============================] - 1s 2ms/step - loss: 3.5513 - accuracy: 0.2420 - val_loss: 2.0675 - val_accuracy: 0.2365\n",
      "Epoch 4/10\n",
      "375/375 [==============================] - 1s 3ms/step - loss: 3.1084 - accuracy: 0.2510 - val_loss: 2.7037 - val_accuracy: 0.2827\n",
      "Epoch 5/10\n",
      "375/375 [==============================] - 1s 3ms/step - loss: 2.9874 - accuracy: 0.2890 - val_loss: 2.3993 - val_accuracy: 0.3030\n",
      "Epoch 6/10\n",
      "375/375 [==============================] - 1s 3ms/step - loss: 2.6668 - accuracy: 0.2884 - val_loss: 2.4401 - val_accuracy: 0.3071\n",
      "Epoch 7/10\n",
      "375/375 [==============================] - 1s 3ms/step - loss: 2.5917 - accuracy: 0.2983 - val_loss: 2.1330 - val_accuracy: 0.2708\n",
      "Epoch 8/10\n",
      "375/375 [==============================] - 1s 3ms/step - loss: 2.5201 - accuracy: 0.2882 - val_loss: 2.1252 - val_accuracy: 0.2898\n",
      "Epoch 9/10\n",
      "375/375 [==============================] - 1s 3ms/step - loss: 2.5963 - accuracy: 0.2739 - val_loss: 2.0789 - val_accuracy: 0.2191\n",
      "Epoch 10/10\n",
      "375/375 [==============================] - 1s 3ms/step - loss: 2.7739 - accuracy: 0.3044 - val_loss: 3.4883 - val_accuracy: 0.3408\n"
     ]
    },
    {
     "data": {
      "text/plain": [
       "<tensorflow.python.keras.callbacks.History at 0x20afd96db20>"
      ]
     },
     "execution_count": 5,
     "metadata": {},
     "output_type": "execute_result"
    }
   ],
   "source": [
    "(train_images, train_labels), _ = mnist.load_data()\n",
    "train_images = train_images.reshape((60000, 28 * 28))\n",
    "train_images = train_images.astype(\"float32\") / 255\n",
    "\n",
    "model = keras.Sequential([\n",
    "    layers.Dense(512, activation=\"relu\"),\n",
    "    layers.Dense(10, activation=\"softmax\")\n",
    "])\n",
    "model.compile(optimizer=keras.optimizers.RMSprop(1.),\n",
    "              loss=\"sparse_categorical_crossentropy\",\n",
    "              metrics=[\"accuracy\"])\n",
    "model.fit(train_images, train_labels,\n",
    "          epochs=10,\n",
    "          batch_size=128,\n",
    "          validation_split=0.2)"
   ]
  },
  {
   "cell_type": "markdown",
   "metadata": {
    "colab_type": "text"
   },
   "source": [
    "**The same model with a more appropriate learning rate**"
   ]
  },
  {
   "cell_type": "code",
   "execution_count": 6,
   "metadata": {
    "colab_type": "code"
   },
   "outputs": [
    {
     "name": "stdout",
     "output_type": "stream",
     "text": [
      "Epoch 1/10\n",
      "375/375 [==============================] - 1s 3ms/step - loss: 0.3495 - accuracy: 0.9125 - val_loss: 0.1610 - val_accuracy: 0.9582\n",
      "Epoch 2/10\n",
      "375/375 [==============================] - 1s 3ms/step - loss: 0.1426 - accuracy: 0.9639 - val_loss: 0.1547 - val_accuracy: 0.9633\n",
      "Epoch 3/10\n",
      "375/375 [==============================] - 1s 3ms/step - loss: 0.1146 - accuracy: 0.9729 - val_loss: 0.1699 - val_accuracy: 0.9691\n",
      "Epoch 4/10\n",
      "375/375 [==============================] - 1s 3ms/step - loss: 0.1007 - accuracy: 0.9773 - val_loss: 0.2086 - val_accuracy: 0.9698\n",
      "Epoch 5/10\n",
      "375/375 [==============================] - 1s 3ms/step - loss: 0.0888 - accuracy: 0.9820 - val_loss: 0.2136 - val_accuracy: 0.9688\n",
      "Epoch 6/10\n",
      "375/375 [==============================] - 1s 3ms/step - loss: 0.0732 - accuracy: 0.9852 - val_loss: 0.2837 - val_accuracy: 0.9666\n",
      "Epoch 7/10\n",
      "375/375 [==============================] - 1s 3ms/step - loss: 0.0802 - accuracy: 0.9851 - val_loss: 0.2578 - val_accuracy: 0.9716\n",
      "Epoch 8/10\n",
      "375/375 [==============================] - 1s 3ms/step - loss: 0.0722 - accuracy: 0.9878 - val_loss: 0.2475 - val_accuracy: 0.9731\n",
      "Epoch 9/10\n",
      "375/375 [==============================] - 1s 3ms/step - loss: 0.0647 - accuracy: 0.9895 - val_loss: 0.3290 - val_accuracy: 0.9707\n",
      "Epoch 10/10\n",
      "375/375 [==============================] - 1s 3ms/step - loss: 0.0621 - accuracy: 0.9896 - val_loss: 0.3061 - val_accuracy: 0.9729\n"
     ]
    },
    {
     "data": {
      "text/plain": [
       "<tensorflow.python.keras.callbacks.History at 0x20afdd51730>"
      ]
     },
     "execution_count": 6,
     "metadata": {},
     "output_type": "execute_result"
    }
   ],
   "source": [
    "model = keras.Sequential([\n",
    "    layers.Dense(512, activation=\"relu\"),\n",
    "    layers.Dense(10, activation=\"softmax\")\n",
    "])\n",
    "model.compile(optimizer=keras.optimizers.RMSprop(1e-2),\n",
    "              loss=\"sparse_categorical_crossentropy\",\n",
    "              metrics=[\"accuracy\"])\n",
    "model.fit(train_images, train_labels,\n",
    "          epochs=10,\n",
    "          batch_size=128,\n",
    "          validation_split=0.2)"
   ]
  },
  {
   "cell_type": "markdown",
   "metadata": {
    "colab_type": "text"
   },
   "source": [
    "### Leveraging better architecture priors"
   ]
  },
  {
   "cell_type": "markdown",
   "metadata": {
    "colab_type": "text"
   },
   "source": [
    "### Increasing model capacity"
   ]
  },
  {
   "cell_type": "markdown",
   "metadata": {
    "colab_type": "text"
   },
   "source": [
    "**A simple logistic regression on MNIST**"
   ]
  },
  {
   "cell_type": "code",
   "execution_count": 7,
   "metadata": {
    "colab_type": "code"
   },
   "outputs": [
    {
     "name": "stdout",
     "output_type": "stream",
     "text": [
      "Epoch 1/20\n",
      "375/375 [==============================] - 1s 2ms/step - loss: 0.6703 - accuracy: 0.8319 - val_loss: 0.3582 - val_accuracy: 0.9041\n",
      "Epoch 2/20\n",
      "375/375 [==============================] - 1s 2ms/step - loss: 0.3516 - accuracy: 0.9034 - val_loss: 0.3084 - val_accuracy: 0.9135\n",
      "Epoch 3/20\n",
      "375/375 [==============================] - 1s 2ms/step - loss: 0.3157 - accuracy: 0.9124 - val_loss: 0.2910 - val_accuracy: 0.9176\n",
      "Epoch 4/20\n",
      "375/375 [==============================] - 1s 2ms/step - loss: 0.2996 - accuracy: 0.9170 - val_loss: 0.2818 - val_accuracy: 0.9229\n",
      "Epoch 5/20\n",
      "375/375 [==============================] - 1s 2ms/step - loss: 0.2895 - accuracy: 0.9185 - val_loss: 0.2773 - val_accuracy: 0.9233\n",
      "Epoch 6/20\n",
      "375/375 [==============================] - 1s 2ms/step - loss: 0.2829 - accuracy: 0.9208 - val_loss: 0.2755 - val_accuracy: 0.9244\n",
      "Epoch 7/20\n",
      "375/375 [==============================] - 1s 2ms/step - loss: 0.2780 - accuracy: 0.9221 - val_loss: 0.2685 - val_accuracy: 0.9261\n",
      "Epoch 8/20\n",
      "375/375 [==============================] - 1s 2ms/step - loss: 0.2742 - accuracy: 0.9237 - val_loss: 0.2673 - val_accuracy: 0.9282\n",
      "Epoch 9/20\n",
      "375/375 [==============================] - 1s 2ms/step - loss: 0.2713 - accuracy: 0.9249 - val_loss: 0.2650 - val_accuracy: 0.9276\n",
      "Epoch 10/20\n",
      "375/375 [==============================] - 1s 2ms/step - loss: 0.2683 - accuracy: 0.9261 - val_loss: 0.2642 - val_accuracy: 0.9285\n",
      "Epoch 11/20\n",
      "375/375 [==============================] - 1s 2ms/step - loss: 0.2661 - accuracy: 0.9263 - val_loss: 0.2647 - val_accuracy: 0.9278\n",
      "Epoch 12/20\n",
      "375/375 [==============================] - 1s 2ms/step - loss: 0.2645 - accuracy: 0.9275 - val_loss: 0.2623 - val_accuracy: 0.9301\n",
      "Epoch 13/20\n",
      "375/375 [==============================] - 1s 2ms/step - loss: 0.2629 - accuracy: 0.9272 - val_loss: 0.2639 - val_accuracy: 0.9292\n",
      "Epoch 14/20\n",
      "375/375 [==============================] - 1s 2ms/step - loss: 0.2615 - accuracy: 0.9281 - val_loss: 0.2621 - val_accuracy: 0.9301\n",
      "Epoch 15/20\n",
      "375/375 [==============================] - 1s 2ms/step - loss: 0.2600 - accuracy: 0.9286 - val_loss: 0.2621 - val_accuracy: 0.9296\n",
      "Epoch 16/20\n",
      "375/375 [==============================] - 1s 2ms/step - loss: 0.2590 - accuracy: 0.9291 - val_loss: 0.2620 - val_accuracy: 0.9302\n",
      "Epoch 17/20\n",
      "375/375 [==============================] - 1s 2ms/step - loss: 0.2582 - accuracy: 0.9295 - val_loss: 0.2617 - val_accuracy: 0.9308\n",
      "Epoch 18/20\n",
      "375/375 [==============================] - 1s 2ms/step - loss: 0.2569 - accuracy: 0.9296 - val_loss: 0.2629 - val_accuracy: 0.9295\n",
      "Epoch 19/20\n",
      "375/375 [==============================] - 1s 2ms/step - loss: 0.2563 - accuracy: 0.9294 - val_loss: 0.2617 - val_accuracy: 0.9312\n",
      "Epoch 20/20\n",
      "375/375 [==============================] - 1s 2ms/step - loss: 0.2554 - accuracy: 0.9301 - val_loss: 0.2611 - val_accuracy: 0.9295\n"
     ]
    }
   ],
   "source": [
    "model = keras.Sequential([layers.Dense(10, activation=\"softmax\")])\n",
    "model.compile(optimizer=\"rmsprop\",\n",
    "              loss=\"sparse_categorical_crossentropy\",\n",
    "              metrics=[\"accuracy\"])\n",
    "history_small_model = model.fit(\n",
    "    train_images, train_labels,\n",
    "    epochs=20,\n",
    "    batch_size=128,\n",
    "    validation_split=0.2)"
   ]
  },
  {
   "cell_type": "code",
   "execution_count": 8,
   "metadata": {
    "colab_type": "code"
   },
   "outputs": [
    {
     "data": {
      "text/plain": [
       "<matplotlib.legend.Legend at 0x20aff43ff40>"
      ]
     },
     "execution_count": 8,
     "metadata": {},
     "output_type": "execute_result"
    },
    {
     "data": {
      "image/png": "[encoded data removed]",
      "text/plain": [
       "<Figure size 432x288 with 1 Axes>"
      ]
     },
     "metadata": {
      "needs_background": "light"
     },
     "output_type": "display_data"
    }
   ],
   "source": [
    "import matplotlib.pyplot as plt\n",
    "val_loss = history_small_model.history[\"val_loss\"]\n",
    "epochs = range(1, 21)\n",
    "plt.plot(epochs, val_loss, \"b--\",\n",
    "         label=\"Validation loss\")\n",
    "plt.title(\"Effect of insufficient model capacity on validation loss\")\n",
    "plt.xlabel(\"Epochs\")\n",
    "plt.ylabel(\"Loss\")\n",
    "plt.legend()"
   ]
  },
  {
   "cell_type": "code",
   "execution_count": 9,
   "metadata": {
    "colab_type": "code"
   },
   "outputs": [
    {
     "name": "stdout",
     "output_type": "stream",
     "text": [
      "Epoch 1/20\n",
      "375/375 [==============================] - 2s 4ms/step - loss: 0.3497 - accuracy: 0.9007 - val_loss: 0.1733 - val_accuracy: 0.9498\n",
      "Epoch 2/20\n",
      "375/375 [==============================] - 1s 3ms/step - loss: 0.1555 - accuracy: 0.9539 - val_loss: 0.1458 - val_accuracy: 0.9575\n",
      "Epoch 3/20\n",
      "375/375 [==============================] - 1s 3ms/step - loss: 0.1111 - accuracy: 0.9663 - val_loss: 0.1057 - val_accuracy: 0.9684\n",
      "Epoch 4/20\n",
      "375/375 [==============================] - 1s 3ms/step - loss: 0.0857 - accuracy: 0.9740 - val_loss: 0.1063 - val_accuracy: 0.9669\n",
      "Epoch 5/20\n",
      "375/375 [==============================] - 1s 3ms/step - loss: 0.0686 - accuracy: 0.9792 - val_loss: 0.0987 - val_accuracy: 0.9704\n",
      "Epoch 6/20\n",
      "375/375 [==============================] - 1s 3ms/step - loss: 0.0556 - accuracy: 0.9831 - val_loss: 0.0968 - val_accuracy: 0.9720\n",
      "Epoch 7/20\n",
      "375/375 [==============================] - 1s 3ms/step - loss: 0.0458 - accuracy: 0.9864 - val_loss: 0.0968 - val_accuracy: 0.9736\n",
      "Epoch 8/20\n",
      "375/375 [==============================] - 1s 3ms/step - loss: 0.0390 - accuracy: 0.9881 - val_loss: 0.0980 - val_accuracy: 0.9732\n",
      "Epoch 9/20\n",
      "375/375 [==============================] - 1s 3ms/step - loss: 0.0329 - accuracy: 0.9896 - val_loss: 0.0949 - val_accuracy: 0.9744\n",
      "Epoch 10/20\n",
      "375/375 [==============================] - 1s 3ms/step - loss: 0.0277 - accuracy: 0.9912 - val_loss: 0.1043 - val_accuracy: 0.9732\n",
      "Epoch 11/20\n",
      "375/375 [==============================] - 1s 3ms/step - loss: 0.0230 - accuracy: 0.9930 - val_loss: 0.0978 - val_accuracy: 0.9752\n",
      "Epoch 12/20\n",
      "375/375 [==============================] - 1s 3ms/step - loss: 0.0196 - accuracy: 0.9942 - val_loss: 0.1041 - val_accuracy: 0.9758\n",
      "Epoch 13/20\n",
      "375/375 [==============================] - 1s 3ms/step - loss: 0.0173 - accuracy: 0.9948 - val_loss: 0.1047 - val_accuracy: 0.9756\n",
      "Epoch 14/20\n",
      "375/375 [==============================] - 1s 3ms/step - loss: 0.0145 - accuracy: 0.9952 - val_loss: 0.1082 - val_accuracy: 0.9761\n",
      "Epoch 15/20\n",
      "375/375 [==============================] - 1s 3ms/step - loss: 0.0122 - accuracy: 0.9965 - val_loss: 0.1180 - val_accuracy: 0.9762\n",
      "Epoch 16/20\n",
      "375/375 [==============================] - 1s 3ms/step - loss: 0.0100 - accuracy: 0.9969 - val_loss: 0.1169 - val_accuracy: 0.9767\n",
      "Epoch 17/20\n",
      "375/375 [==============================] - 1s 3ms/step - loss: 0.0085 - accuracy: 0.9975 - val_loss: 0.1311 - val_accuracy: 0.9765\n",
      "Epoch 18/20\n",
      "375/375 [==============================] - 1s 3ms/step - loss: 0.0078 - accuracy: 0.9976 - val_loss: 0.1290 - val_accuracy: 0.9769\n",
      "Epoch 19/20\n",
      "375/375 [==============================] - 1s 3ms/step - loss: 0.0069 - accuracy: 0.9977 - val_loss: 0.1349 - val_accuracy: 0.9774\n",
      "Epoch 20/20\n",
      "375/375 [==============================] - 1s 3ms/step - loss: 0.0056 - accuracy: 0.9981 - val_loss: 0.1421 - val_accuracy: 0.9761\n"
     ]
    }
   ],
   "source": [
    "model = keras.Sequential([\n",
    "    layers.Dense(96, activation=\"relu\"),\n",
    "    layers.Dense(96, activation=\"relu\"),\n",
    "    layers.Dense(10, activation=\"softmax\"),\n",
    "])\n",
    "model.compile(optimizer=\"rmsprop\",\n",
    "              loss=\"sparse_categorical_crossentropy\",\n",
    "              metrics=[\"accuracy\"])\n",
    "history_large_model = model.fit(\n",
    "    train_images, train_labels,\n",
    "    epochs=20,\n",
    "    batch_size=128,\n",
    "    validation_split=0.2)"
   ]
  },
  {
   "cell_type": "markdown",
   "metadata": {
    "colab_type": "text"
   },
   "source": [
    "## Improving generalization"
   ]
  },
  {
   "cell_type": "markdown",
   "metadata": {
    "colab_type": "text"
   },
   "source": [
    "### Dataset curation"
   ]
  },
  {
   "cell_type": "markdown",
   "metadata": {
    "colab_type": "text"
   },
   "source": [
    "### Feature engineering"
   ]
  },
  {
   "cell_type": "markdown",
   "metadata": {
    "colab_type": "text"
   },
   "source": [
    "### Using early stopping"
   ]
  },
  {
   "cell_type": "markdown",
   "metadata": {
    "colab_type": "text"
   },
   "source": [
    "### Regularizing your model"
   ]
  },
  {
   "cell_type": "markdown",
   "metadata": {
    "colab_type": "text"
   },
   "source": [
    "#### Reducing the network's size"
   ]
  },
  {
   "cell_type": "markdown",
   "metadata": {
    "colab_type": "text"
   },
   "source": [
    "**Original model**"
   ]
  },
  {
   "cell_type": "code",
   "execution_count": 10,
   "metadata": {
    "colab_type": "code"
   },
   "outputs": [
    {
     "name": "stderr",
     "output_type": "stream",
     "text": [
      "<__array_function__ internals>:5: VisibleDeprecationWarning: Creating an ndarray from ragged nested sequences (which is a list-or-tuple of lists-or-tuples-or ndarrays with different lengths or shapes) is deprecated. If you meant to do this, you must specify 'dtype=object' when creating the ndarray\n",
      "C:\\Users\\hank\\anaconda3\\lib\\site-packages\\tensorflow\\python\\keras\\datasets\\imdb.py:155: VisibleDeprecationWarning: Creating an ndarray from ragged nested sequences (which is a list-or-tuple of lists-or-tuples-or ndarrays with different lengths or shapes) is deprecated. If you meant to do this, you must specify 'dtype=object' when creating the ndarray\n",
      "  x_train, y_train = np.array(xs[:idx]), np.array(labels[:idx])\n",
      "C:\\Users\\hank\\anaconda3\\lib\\site-packages\\tensorflow\\python\\keras\\datasets\\imdb.py:156: VisibleDeprecationWarning: Creating an ndarray from ragged nested sequences (which is a list-or-tuple of lists-or-tuples-or ndarrays with different lengths or shapes) is deprecated. If you meant to do this, you must specify 'dtype=object' when creating the ndarray\n",
      "  x_test, y_test = np.array(xs[idx:]), np.array(labels[idx:])\n"
     ]
    },
    {
     "name": "stdout",
     "output_type": "stream",
     "text": [
      "Epoch 1/20\n",
      "30/30 [==============================] - 2s 33ms/step - loss: 0.5047 - accuracy: 0.7812 - val_loss: 0.3654 - val_accuracy: 0.8748\n",
      "Epoch 2/20\n",
      "30/30 [==============================] - 1s 19ms/step - loss: 0.2954 - accuracy: 0.9035 - val_loss: 0.3176 - val_accuracy: 0.8747\n",
      "Epoch 3/20\n",
      "30/30 [==============================] - 1s 18ms/step - loss: 0.2207 - accuracy: 0.9261 - val_loss: 0.2848 - val_accuracy: 0.8864\n",
      "Epoch 4/20\n",
      "30/30 [==============================] - 1s 19ms/step - loss: 0.1714 - accuracy: 0.9445 - val_loss: 0.2940 - val_accuracy: 0.8816\n",
      "Epoch 5/20\n",
      "30/30 [==============================] - 1s 19ms/step - loss: 0.1437 - accuracy: 0.9533 - val_loss: 0.2806 - val_accuracy: 0.8884\n",
      "Epoch 6/20\n",
      "30/30 [==============================] - 1s 18ms/step - loss: 0.1145 - accuracy: 0.9657 - val_loss: 0.2991 - val_accuracy: 0.8860\n",
      "Epoch 7/20\n",
      "30/30 [==============================] - 1s 19ms/step - loss: 0.0980 - accuracy: 0.9705 - val_loss: 0.3112 - val_accuracy: 0.8841\n",
      "Epoch 8/20\n",
      "30/30 [==============================] - 1s 18ms/step - loss: 0.0815 - accuracy: 0.9764 - val_loss: 0.3399 - val_accuracy: 0.8801\n",
      "Epoch 9/20\n",
      "30/30 [==============================] - 1s 19ms/step - loss: 0.0632 - accuracy: 0.9847 - val_loss: 0.3750 - val_accuracy: 0.8750\n",
      "Epoch 10/20\n",
      "30/30 [==============================] - 1s 19ms/step - loss: 0.0554 - accuracy: 0.9865 - val_loss: 0.3856 - val_accuracy: 0.8787\n",
      "Epoch 11/20\n",
      "30/30 [==============================] - 1s 19ms/step - loss: 0.0461 - accuracy: 0.9880 - val_loss: 0.4327 - val_accuracy: 0.8706\n",
      "Epoch 12/20\n",
      "30/30 [==============================] - 1s 18ms/step - loss: 0.0384 - accuracy: 0.9902 - val_loss: 0.4447 - val_accuracy: 0.8751\n",
      "Epoch 13/20\n",
      "30/30 [==============================] - 1s 18ms/step - loss: 0.0294 - accuracy: 0.9936 - val_loss: 0.4790 - val_accuracy: 0.8710\n",
      "Epoch 14/20\n",
      "30/30 [==============================] - 1s 17ms/step - loss: 0.0255 - accuracy: 0.9948 - val_loss: 0.5088 - val_accuracy: 0.8712\n",
      "Epoch 15/20\n",
      "30/30 [==============================] - 1s 18ms/step - loss: 0.0230 - accuracy: 0.9947 - val_loss: 0.5376 - val_accuracy: 0.8711\n",
      "Epoch 16/20\n",
      "30/30 [==============================] - 1s 18ms/step - loss: 0.0127 - accuracy: 0.9985 - val_loss: 0.5694 - val_accuracy: 0.8687\n",
      "Epoch 17/20\n",
      "30/30 [==============================] - 1s 18ms/step - loss: 0.0135 - accuracy: 0.9982 - val_loss: 0.6086 - val_accuracy: 0.8671\n",
      "Epoch 18/20\n",
      "30/30 [==============================] - 1s 18ms/step - loss: 0.0126 - accuracy: 0.9974 - val_loss: 0.6393 - val_accuracy: 0.8646\n",
      "Epoch 19/20\n",
      "30/30 [==============================] - 1s 18ms/step - loss: 0.0057 - accuracy: 0.9997 - val_loss: 0.6832 - val_accuracy: 0.8634\n",
      "Epoch 20/20\n",
      "30/30 [==============================] - 0s 17ms/step - loss: 0.0076 - accuracy: 0.9990 - val_loss: 0.7049 - val_accuracy: 0.8638\n"
     ]
    }
   ],
   "source": [
    "from tensorflow.keras.datasets import imdb\n",
    "(train_data, train_labels), _ = imdb.load_data(num_words=10000)\n",
    "\n",
    "def vectorize_sequences(sequences, dimension=10000):\n",
    "    results = np.zeros((len(sequences), dimension))\n",
    "    for i, sequence in enumerate(sequences):\n",
    "        results[i, sequence] = 1.\n",
    "    return results\n",
    "train_data = vectorize_sequences(train_data)\n",
    "\n",
    "model = keras.Sequential([\n",
    "    layers.Dense(16, activation=\"relu\"),\n",
    "    layers.Dense(16, activation=\"relu\"),\n",
    "    layers.Dense(1, activation=\"sigmoid\")\n",
    "])\n",
    "model.compile(optimizer=\"rmsprop\",\n",
    "              loss=\"binary_crossentropy\",\n",
    "              metrics=[\"accuracy\"])\n",
    "history_original = model.fit(train_data, train_labels,\n",
    "                             epochs=20, batch_size=512, validation_split=0.4)"
   ]
  },
  {
   "cell_type": "markdown",
   "metadata": {
    "colab_type": "text"
   },
   "source": [
    "**Version of the model with lower capacity**"
   ]
  },
  {
   "cell_type": "code",
   "execution_count": 11,
   "metadata": {
    "colab_type": "code"
   },
   "outputs": [
    {
     "name": "stdout",
     "output_type": "stream",
     "text": [
      "Epoch 1/20\n",
      "30/30 [==============================] - 2s 42ms/step - loss: 0.5851 - accuracy: 0.7687 - val_loss: 0.4860 - val_accuracy: 0.8575\n",
      "Epoch 2/20\n",
      "30/30 [==============================] - 1s 20ms/step - loss: 0.4172 - accuracy: 0.8907 - val_loss: 0.3969 - val_accuracy: 0.8705\n",
      "Epoch 3/20\n",
      "30/30 [==============================] - 1s 20ms/step - loss: 0.3285 - accuracy: 0.9112 - val_loss: 0.3390 - val_accuracy: 0.8844\n",
      "Epoch 4/20\n",
      "30/30 [==============================] - 1s 19ms/step - loss: 0.2713 - accuracy: 0.9247 - val_loss: 0.3104 - val_accuracy: 0.8890\n",
      "Epoch 5/20\n",
      "30/30 [==============================] - 1s 19ms/step - loss: 0.2303 - accuracy: 0.9349 - val_loss: 0.2921 - val_accuracy: 0.8898\n",
      "Epoch 6/20\n",
      "30/30 [==============================] - 1s 19ms/step - loss: 0.1994 - accuracy: 0.9445 - val_loss: 0.2794 - val_accuracy: 0.8922\n",
      "Epoch 7/20\n",
      "30/30 [==============================] - 1s 19ms/step - loss: 0.1745 - accuracy: 0.9512 - val_loss: 0.2739 - val_accuracy: 0.8921\n",
      "Epoch 8/20\n",
      "30/30 [==============================] - 1s 18ms/step - loss: 0.1546 - accuracy: 0.9572 - val_loss: 0.2734 - val_accuracy: 0.8918\n",
      "Epoch 9/20\n",
      "30/30 [==============================] - 1s 19ms/step - loss: 0.1384 - accuracy: 0.9623 - val_loss: 0.2753 - val_accuracy: 0.8907\n",
      "Epoch 10/20\n",
      "30/30 [==============================] - 1s 19ms/step - loss: 0.1239 - accuracy: 0.9666 - val_loss: 0.2796 - val_accuracy: 0.8895\n",
      "Epoch 11/20\n",
      "30/30 [==============================] - 1s 19ms/step - loss: 0.1117 - accuracy: 0.9704 - val_loss: 0.2870 - val_accuracy: 0.8867\n",
      "Epoch 12/20\n",
      "30/30 [==============================] - 1s 19ms/step - loss: 0.1006 - accuracy: 0.9742 - val_loss: 0.2941 - val_accuracy: 0.8860\n",
      "Epoch 13/20\n",
      "30/30 [==============================] - 1s 18ms/step - loss: 0.0907 - accuracy: 0.9775 - val_loss: 0.3029 - val_accuracy: 0.8852\n",
      "Epoch 14/20\n",
      "30/30 [==============================] - 1s 19ms/step - loss: 0.0821 - accuracy: 0.9805 - val_loss: 0.3183 - val_accuracy: 0.8828\n",
      "Epoch 15/20\n",
      "30/30 [==============================] - 1s 19ms/step - loss: 0.0742 - accuracy: 0.9817 - val_loss: 0.3255 - val_accuracy: 0.8832\n",
      "Epoch 16/20\n",
      "30/30 [==============================] - 1s 19ms/step - loss: 0.0661 - accuracy: 0.9855 - val_loss: 0.3483 - val_accuracy: 0.8779\n",
      "Epoch 17/20\n",
      "30/30 [==============================] - 1s 19ms/step - loss: 0.0602 - accuracy: 0.9873 - val_loss: 0.3530 - val_accuracy: 0.8799\n",
      "Epoch 18/20\n",
      "30/30 [==============================] - 1s 19ms/step - loss: 0.0541 - accuracy: 0.9891 - val_loss: 0.3703 - val_accuracy: 0.8771\n",
      "Epoch 19/20\n",
      "30/30 [==============================] - 1s 19ms/step - loss: 0.0487 - accuracy: 0.9904 - val_loss: 0.3799 - val_accuracy: 0.8796\n",
      "Epoch 20/20\n",
      "30/30 [==============================] - 1s 18ms/step - loss: 0.0435 - accuracy: 0.9911 - val_loss: 0.3970 - val_accuracy: 0.8759\n"
     ]
    }
   ],
   "source": [
    "model = keras.Sequential([\n",
    "    layers.Dense(4, activation=\"relu\"),\n",
    "    layers.Dense(4, activation=\"relu\"),\n",
    "    layers.Dense(1, activation=\"sigmoid\")\n",
    "])\n",
    "model.compile(optimizer=\"rmsprop\",\n",
    "              loss=\"binary_crossentropy\",\n",
    "              metrics=[\"accuracy\"])\n",
    "history_smaller_model = model.fit(\n",
    "    train_data, train_labels,\n",
    "    epochs=20, batch_size=512, validation_split=0.4)"
   ]
  },
  {
   "cell_type": "markdown",
   "metadata": {
    "colab_type": "text"
   },
   "source": [
    "**Version of the model with higher capacity**"
   ]
  },
  {
   "cell_type": "code",
   "execution_count": 12,
   "metadata": {
    "colab_type": "code"
   },
   "outputs": [
    {
     "name": "stdout",
     "output_type": "stream",
     "text": [
      "Epoch 1/20\n",
      "30/30 [==============================] - 1s 31ms/step - loss: 0.5310 - accuracy: 0.7443 - val_loss: 0.3751 - val_accuracy: 0.8411\n",
      "Epoch 2/20\n",
      "30/30 [==============================] - 1s 23ms/step - loss: 0.2531 - accuracy: 0.8985 - val_loss: 0.2955 - val_accuracy: 0.8745\n",
      "Epoch 3/20\n",
      "30/30 [==============================] - 1s 24ms/step - loss: 0.1499 - accuracy: 0.9429 - val_loss: 0.2877 - val_accuracy: 0.8931\n",
      "Epoch 4/20\n",
      "30/30 [==============================] - 1s 23ms/step - loss: 0.0769 - accuracy: 0.9743 - val_loss: 0.3731 - val_accuracy: 0.8912\n",
      "Epoch 5/20\n",
      "30/30 [==============================] - 1s 23ms/step - loss: 0.0929 - accuracy: 0.9780 - val_loss: 0.3390 - val_accuracy: 0.8899\n",
      "Epoch 6/20\n",
      "30/30 [==============================] - 1s 23ms/step - loss: 0.0048 - accuracy: 0.9995 - val_loss: 0.5008 - val_accuracy: 0.8877\n",
      "Epoch 7/20\n",
      "30/30 [==============================] - 1s 23ms/step - loss: 4.8063e-04 - accuracy: 1.0000 - val_loss: 0.6011 - val_accuracy: 0.8889\n",
      "Epoch 8/20\n",
      "30/30 [==============================] - 1s 23ms/step - loss: 7.1139e-05 - accuracy: 1.0000 - val_loss: 0.7235 - val_accuracy: 0.8858\n",
      "Epoch 9/20\n",
      "30/30 [==============================] - 1s 23ms/step - loss: 1.1935e-05 - accuracy: 1.0000 - val_loss: 0.8158 - val_accuracy: 0.8853\n",
      "Epoch 10/20\n",
      "30/30 [==============================] - 1s 23ms/step - loss: 2.7240e-06 - accuracy: 1.0000 - val_loss: 0.8971 - val_accuracy: 0.8854\n",
      "Epoch 11/20\n",
      "30/30 [==============================] - 1s 23ms/step - loss: 7.6602e-07 - accuracy: 1.0000 - val_loss: 0.9711 - val_accuracy: 0.8857\n",
      "Epoch 12/20\n",
      "30/30 [==============================] - 1s 23ms/step - loss: 2.5209e-07 - accuracy: 1.0000 - val_loss: 1.0503 - val_accuracy: 0.8857\n",
      "Epoch 13/20\n",
      "30/30 [==============================] - 1s 23ms/step - loss: 9.2369e-08 - accuracy: 1.0000 - val_loss: 1.1035 - val_accuracy: 0.8859\n",
      "Epoch 14/20\n",
      "30/30 [==============================] - 1s 23ms/step - loss: 4.3383e-08 - accuracy: 1.0000 - val_loss: 1.1465 - val_accuracy: 0.8857\n",
      "Epoch 15/20\n",
      "30/30 [==============================] - 1s 23ms/step - loss: 2.5762e-08 - accuracy: 1.0000 - val_loss: 1.1737 - val_accuracy: 0.8857\n",
      "Epoch 16/20\n",
      "30/30 [==============================] - 1s 24ms/step - loss: 1.8025e-08 - accuracy: 1.0000 - val_loss: 1.1945 - val_accuracy: 0.8855\n",
      "Epoch 17/20\n",
      "30/30 [==============================] - 1s 23ms/step - loss: 1.3856e-08 - accuracy: 1.0000 - val_loss: 1.2089 - val_accuracy: 0.8858\n",
      "Epoch 18/20\n",
      "30/30 [==============================] - 1s 23ms/step - loss: 1.1219e-08 - accuracy: 1.0000 - val_loss: 1.2211 - val_accuracy: 0.8857\n",
      "Epoch 19/20\n",
      "30/30 [==============================] - 1s 23ms/step - loss: 9.4820e-09 - accuracy: 1.0000 - val_loss: 1.2301 - val_accuracy: 0.8858\n",
      "Epoch 20/20\n",
      "30/30 [==============================] - 1s 22ms/step - loss: 8.2070e-09 - accuracy: 1.0000 - val_loss: 1.2391 - val_accuracy: 0.8856\n"
     ]
    }
   ],
   "source": [
    "model = keras.Sequential([\n",
    "    layers.Dense(512, activation=\"relu\"),\n",
    "    layers.Dense(512, activation=\"relu\"),\n",
    "    layers.Dense(1, activation=\"sigmoid\")\n",
    "])\n",
    "model.compile(optimizer=\"rmsprop\",\n",
    "              loss=\"binary_crossentropy\",\n",
    "              metrics=[\"accuracy\"])\n",
    "history_larger_model = model.fit(\n",
    "    train_data, train_labels,\n",
    "    epochs=20, batch_size=512, validation_split=0.4)"
   ]
  },
  {
   "cell_type": "markdown",
   "metadata": {
    "colab_type": "text"
   },
   "source": [
    "#### Adding weight regularization"
   ]
  },
  {
   "cell_type": "markdown",
   "metadata": {
    "colab_type": "text"
   },
   "source": [
    "**Adding L2 weight regularization to the model**"
   ]
  },
  {
   "cell_type": "code",
   "execution_count": 13,
   "metadata": {
    "colab_type": "code"
   },
   "outputs": [
    {
     "name": "stdout",
     "output_type": "stream",
     "text": [
      "Epoch 1/20\n",
      "30/30 [==============================] - 1s 27ms/step - loss: 0.5990 - accuracy: 0.7715 - val_loss: 0.4726 - val_accuracy: 0.8579\n",
      "Epoch 2/20\n",
      "30/30 [==============================] - 1s 18ms/step - loss: 0.3902 - accuracy: 0.8959 - val_loss: 0.3814 - val_accuracy: 0.8876\n",
      "Epoch 3/20\n",
      "30/30 [==============================] - 1s 18ms/step - loss: 0.3250 - accuracy: 0.9139 - val_loss: 0.3595 - val_accuracy: 0.8897\n",
      "Epoch 4/20\n",
      "30/30 [==============================] - 1s 19ms/step - loss: 0.2918 - accuracy: 0.9262 - val_loss: 0.3530 - val_accuracy: 0.8896\n",
      "Epoch 5/20\n",
      "30/30 [==============================] - 1s 18ms/step - loss: 0.2729 - accuracy: 0.9333 - val_loss: 0.3537 - val_accuracy: 0.8895\n",
      "Epoch 6/20\n",
      "30/30 [==============================] - 1s 19ms/step - loss: 0.2591 - accuracy: 0.9379 - val_loss: 0.3553 - val_accuracy: 0.8865\n",
      "Epoch 7/20\n",
      "30/30 [==============================] - 1s 18ms/step - loss: 0.2469 - accuracy: 0.9443 - val_loss: 0.3609 - val_accuracy: 0.8836\n",
      "Epoch 8/20\n",
      "30/30 [==============================] - 1s 19ms/step - loss: 0.2401 - accuracy: 0.9455 - val_loss: 0.3618 - val_accuracy: 0.8838\n",
      "Epoch 9/20\n",
      "30/30 [==============================] - 1s 18ms/step - loss: 0.2301 - accuracy: 0.9503 - val_loss: 0.3666 - val_accuracy: 0.8823\n",
      "Epoch 10/20\n",
      "30/30 [==============================] - 1s 19ms/step - loss: 0.2246 - accuracy: 0.9513 - val_loss: 0.3746 - val_accuracy: 0.8824\n",
      "Epoch 11/20\n",
      "30/30 [==============================] - 1s 18ms/step - loss: 0.2192 - accuracy: 0.9537 - val_loss: 0.3861 - val_accuracy: 0.8793\n",
      "Epoch 12/20\n",
      "30/30 [==============================] - 1s 19ms/step - loss: 0.2179 - accuracy: 0.9529 - val_loss: 0.3853 - val_accuracy: 0.8781\n",
      "Epoch 13/20\n",
      "30/30 [==============================] - 1s 19ms/step - loss: 0.2135 - accuracy: 0.9537 - val_loss: 0.3902 - val_accuracy: 0.8800\n",
      "Epoch 14/20\n",
      "30/30 [==============================] - 1s 18ms/step - loss: 0.2058 - accuracy: 0.9600 - val_loss: 0.4099 - val_accuracy: 0.8728\n",
      "Epoch 15/20\n",
      "30/30 [==============================] - 1s 19ms/step - loss: 0.2080 - accuracy: 0.9575 - val_loss: 0.3986 - val_accuracy: 0.8775\n",
      "Epoch 16/20\n",
      "30/30 [==============================] - 1s 18ms/step - loss: 0.2020 - accuracy: 0.9591 - val_loss: 0.4020 - val_accuracy: 0.8765\n",
      "Epoch 17/20\n",
      "30/30 [==============================] - 1s 19ms/step - loss: 0.1963 - accuracy: 0.9644 - val_loss: 0.4065 - val_accuracy: 0.8760\n",
      "Epoch 18/20\n",
      "30/30 [==============================] - 1s 18ms/step - loss: 0.2029 - accuracy: 0.9573 - val_loss: 0.4090 - val_accuracy: 0.8768\n",
      "Epoch 19/20\n",
      "30/30 [==============================] - 1s 19ms/step - loss: 0.1989 - accuracy: 0.9607 - val_loss: 0.4137 - val_accuracy: 0.8754\n",
      "Epoch 20/20\n",
      "30/30 [==============================] - 1s 17ms/step - loss: 0.1890 - accuracy: 0.9651 - val_loss: 0.4637 - val_accuracy: 0.8660\n"
     ]
    }
   ],
   "source": [
    "from tensorflow.keras import regularizers\n",
    "model = keras.Sequential([\n",
    "    layers.Dense(16,\n",
    "                 kernel_regularizer=regularizers.l2(0.002),\n",
    "                 activation=\"relu\"),\n",
    "    layers.Dense(16,\n",
    "                 kernel_regularizer=regularizers.l2(0.002),\n",
    "                 activation=\"relu\"),\n",
    "    layers.Dense(1, activation=\"sigmoid\")\n",
    "])\n",
    "model.compile(optimizer=\"rmsprop\",\n",
    "              loss=\"binary_crossentropy\",\n",
    "              metrics=[\"accuracy\"])\n",
    "history_l2_reg = model.fit(\n",
    "    train_data, train_labels,\n",
    "    epochs=20, batch_size=512, validation_split=0.4)"
   ]
  },
  {
   "cell_type": "markdown",
   "metadata": {
    "colab_type": "text"
   },
   "source": [
    "**Different weight regularizers available in Keras**"
   ]
  },
  {
   "cell_type": "code",
   "execution_count": 14,
   "metadata": {
    "colab_type": "code"
   },
   "outputs": [
    {
     "data": {
      "text/plain": [
       "<tensorflow.python.keras.regularizers.L1L2 at 0x20aff86f4c0>"
      ]
     },
     "execution_count": 14,
     "metadata": {},
     "output_type": "execute_result"
    }
   ],
   "source": [
    "from tensorflow.keras import regularizers\n",
    "regularizers.l1(0.001)\n",
    "regularizers.l1_l2(l1=0.001, l2=0.001)"
   ]
  },
  {
   "cell_type": "markdown",
   "metadata": {
    "colab_type": "text"
   },
   "source": [
    "#### Adding dropout"
   ]
  },
  {
   "cell_type": "markdown",
   "metadata": {
    "colab_type": "text"
   },
   "source": [
    "**Adding dropout to the IMDB model**"
   ]
  },
  {
   "cell_type": "code",
   "execution_count": 15,
   "metadata": {
    "colab_type": "code"
   },
   "outputs": [
    {
     "name": "stdout",
     "output_type": "stream",
     "text": [
      "Epoch 1/20\n",
      "30/30 [==============================] - 2s 28ms/step - loss: 0.6148 - accuracy: 0.6616 - val_loss: 0.4893 - val_accuracy: 0.8481\n",
      "Epoch 2/20\n",
      "30/30 [==============================] - 1s 18ms/step - loss: 0.4930 - accuracy: 0.7808 - val_loss: 0.3929 - val_accuracy: 0.8770\n",
      "Epoch 3/20\n",
      "30/30 [==============================] - 1s 18ms/step - loss: 0.4129 - accuracy: 0.8396 - val_loss: 0.3308 - val_accuracy: 0.8817\n",
      "Epoch 4/20\n",
      "30/30 [==============================] - 1s 18ms/step - loss: 0.3541 - accuracy: 0.8706 - val_loss: 0.3043 - val_accuracy: 0.8813\n",
      "Epoch 5/20\n",
      "30/30 [==============================] - 1s 18ms/step - loss: 0.3011 - accuracy: 0.8939 - val_loss: 0.3050 - val_accuracy: 0.8725\n",
      "Epoch 6/20\n",
      "30/30 [==============================] - 1s 18ms/step - loss: 0.2698 - accuracy: 0.9090 - val_loss: 0.2741 - val_accuracy: 0.8922\n",
      "Epoch 7/20\n",
      "30/30 [==============================] - 1s 18ms/step - loss: 0.2430 - accuracy: 0.9193 - val_loss: 0.2854 - val_accuracy: 0.8822\n",
      "Epoch 8/20\n",
      "30/30 [==============================] - 1s 18ms/step - loss: 0.2105 - accuracy: 0.9307 - val_loss: 0.2889 - val_accuracy: 0.8902\n",
      "Epoch 9/20\n",
      "30/30 [==============================] - 1s 17ms/step - loss: 0.1858 - accuracy: 0.9414 - val_loss: 0.3037 - val_accuracy: 0.8900\n",
      "Epoch 10/20\n",
      "30/30 [==============================] - 1s 18ms/step - loss: 0.1706 - accuracy: 0.9455 - val_loss: 0.3204 - val_accuracy: 0.8856\n",
      "Epoch 11/20\n",
      "30/30 [==============================] - 1s 18ms/step - loss: 0.1514 - accuracy: 0.9529 - val_loss: 0.3361 - val_accuracy: 0.8892\n",
      "Epoch 12/20\n",
      "30/30 [==============================] - 1s 17ms/step - loss: 0.1380 - accuracy: 0.9572 - val_loss: 0.3582 - val_accuracy: 0.8886\n",
      "Epoch 13/20\n",
      "30/30 [==============================] - 1s 17ms/step - loss: 0.1238 - accuracy: 0.9599 - val_loss: 0.3961 - val_accuracy: 0.8870\n",
      "Epoch 14/20\n",
      "30/30 [==============================] - 1s 18ms/step - loss: 0.1149 - accuracy: 0.9637 - val_loss: 0.4082 - val_accuracy: 0.8866\n",
      "Epoch 15/20\n",
      "30/30 [==============================] - 1s 18ms/step - loss: 0.1040 - accuracy: 0.9660 - val_loss: 0.4453 - val_accuracy: 0.8850\n",
      "Epoch 16/20\n",
      "30/30 [==============================] - 1s 17ms/step - loss: 0.1041 - accuracy: 0.9683 - val_loss: 0.4638 - val_accuracy: 0.8857\n",
      "Epoch 17/20\n",
      "30/30 [==============================] - 1s 18ms/step - loss: 0.0910 - accuracy: 0.9731 - val_loss: 0.4869 - val_accuracy: 0.8846\n",
      "Epoch 18/20\n",
      "30/30 [==============================] - 1s 18ms/step - loss: 0.0909 - accuracy: 0.9721 - val_loss: 0.5183 - val_accuracy: 0.8851\n",
      "Epoch 19/20\n",
      "30/30 [==============================] - 1s 17ms/step - loss: 0.0892 - accuracy: 0.9721 - val_loss: 0.5235 - val_accuracy: 0.8842\n",
      "Epoch 20/20\n",
      "30/30 [==============================] - 1s 17ms/step - loss: 0.0774 - accuracy: 0.9753 - val_loss: 0.5863 - val_accuracy: 0.8844\n"
     ]
    }
   ],
   "source": [
    "model = keras.Sequential([\n",
    "    layers.Dense(16, activation=\"relu\"),\n",
    "    layers.Dropout(0.5),\n",
    "    layers.Dense(16, activation=\"relu\"),\n",
    "    layers.Dropout(0.5),\n",
    "    layers.Dense(1, activation=\"sigmoid\")\n",
    "])\n",
    "model.compile(optimizer=\"rmsprop\",\n",
    "              loss=\"binary_crossentropy\",\n",
    "              metrics=[\"accuracy\"])\n",
    "history_dropout = model.fit(\n",
    "    train_data, train_labels,\n",
    "    epochs=20, batch_size=512, validation_split=0.4)"
   ]
  },
  {
   "cell_type": "markdown",
   "metadata": {
    "colab_type": "text"
   },
   "source": [
    "## Summary"
   ]
  }
 ],
 "metadata": {
  "colab": {
   "collapsed_sections": [],
   "name": "chapter05_fundamentals-of-ml.i",
   "private_outputs": false,
   "provenance": [],
   "toc_visible": true
  },
  "kernelspec": {
   "display_name": "Python 3 (ipykernel)",
   "language": "python",
   "name": "python3"
  },
  "language_info": {
   "codemirror_mode": {
    "name": "ipython",
    "version": 3
   },
   "file_extension": ".py",
   "mimetype": "text/x-python",
   "name": "python",
   "nbconvert_exporter": "python",
   "pygments_lexer": "ipython3",
   "version": "3.9.12"
  }
 },
 "nbformat": 4,
 "nbformat_minor": 4
}
