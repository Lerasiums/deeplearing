{
 "cells": [
  {
   "cell_type": "code",
   "execution_count": 1,
   "id": "8ac039da-ce51-487b-9065-1eb29be69ca3",
   "metadata": {},
   "outputs": [],
   "source": [
    "import torch\n",
    "import torch.nn as nn\n",
    "from torchvision import datasets ,models,transforms\n",
    "from pathlib import Path\n",
    "from matplotlib import pyplot as plt\n",
    "import numpy as np\n",
    "import torch.nn.functional as F\n",
    "from sklearn.model_selection import train_test_split\n",
    "import matplotlib.pyplot as plt\n",
    "from torch.nn import Linear, ReLU, CrossEntropyLoss, Conv2d, MaxPool2d, Module\n",
    "from torch.optim import Adam\n",
    "import pandas as pd\n",
    "import os\n",
    "from os import listdir\n",
    "from tqdm import tqdm_notebook as tqdm\n",
    "from PIL import Image"
   ]
  },
  {
   "cell_type": "code",
   "execution_count": 2,
   "id": "b8a38779-3b7f-4819-be78-c5b990ac8a79",
   "metadata": {
    "tags": []
   },
   "outputs": [
    {
     "ename": "SyntaxError",
     "evalue": "unexpected EOF while parsing (4153531462.py, line 7)",
     "output_type": "error",
     "traceback": [
      "\u001b[1;36m  Input \u001b[1;32mIn [2]\u001b[1;36m\u001b[0m\n\u001b[1;33m    transforms = transforms.Compose([transforms.Resize((224,224)), transforms.ToTensor()]\u001b[0m\n\u001b[1;37m                                                                                         ^\u001b[0m\n\u001b[1;31mSyntaxError\u001b[0m\u001b[1;31m:\u001b[0m unexpected EOF while parsing\n"
     ]
    }
   ],
   "source": [
    "PATH_train=\"...../train\"\n",
    "TRAIN =Path(PATH_train)\n",
    "#Batch：每批丟入多少張圖片\n",
    "batch_size = 8\n",
    "#Learning Rate：學習率\n",
    "LR = 0.0001\n",
    "transforms = transforms.Compose([transforms.Resize((224,224)), transforms.ToTensor()]"
   ]
  },
  {
   "cell_type": "code",
   "execution_count": 4,
   "id": "7dbcbdb5-2ebf-422a-b468-805a2072e74a",
   "metadata": {},
   "outputs": [],
   "source": [
    "import os, shutil \n",
    "# 原始目录所在的路径\n",
    "original_dataset_dir = 'C:\\\\Users\\\\hank\\\\Desktop\\\\dogs-vs-cats\\\\train'\n",
    "\n",
    "# 数据集分类后的目录\n",
    "base_dir = 'C:\\\\Users\\\\hank\\\\Desktop\\\\dogs-vs-cats\\\\train1'\n",
    "os.mkdir(base_dir)\n",
    "\n",
    "# # 训练、验证、测试数据集的目录\n",
    "train_dir = os.path.join(base_dir, 'train')\n",
    "os.mkdir(train_dir)\n",
    "validation_dir = os.path.join(base_dir, 'validation')\n",
    "os.mkdir(validation_dir)\n",
    "test_dir = os.path.join(base_dir, 'test')\n",
    "os.mkdir(test_dir)\n",
    "\n",
    "# 猫训练图片所在目录\n",
    "train_cats_dir = os.path.join(train_dir, 'cats')\n",
    "os.mkdir(train_cats_dir)\n",
    "\n",
    "# 狗训练图片所在目录\n",
    "train_dogs_dir = os.path.join(train_dir, 'dogs')\n",
    "os.mkdir(train_dogs_dir)\n",
    "\n",
    "# 猫验证图片所在目录\n",
    "validation_cats_dir = os.path.join(validation_dir, 'cats')\n",
    "os.mkdir(validation_cats_dir)\n",
    "\n",
    "# 狗验证数据集所在目录\n",
    "validation_dogs_dir = os.path.join(validation_dir, 'dogs')\n",
    "os.mkdir(validation_dogs_dir)\n",
    "\n",
    "# 猫测试数据集所在目录\n",
    "test_cats_dir = os.path.join(test_dir, 'cats')\n",
    "os.mkdir(test_cats_dir)\n",
    "\n",
    "# 狗测试数据集所在目录\n",
    "test_dogs_dir = os.path.join(test_dir, 'dogs')\n",
    "os.mkdir(test_dogs_dir)\n",
    "\n",
    "# 将前1000张猫图像复制到train_cats_dir\n",
    "fnames = ['cat.{}.jpg'.format(i) for i in range(1000)]\n",
    "for fname in fnames:\n",
    "    src = os.path.join(original_dataset_dir, fname)\n",
    "    dst = os.path.join(train_cats_dir, fname)\n",
    "    shutil.copyfile(src, dst)\n",
    "\n",
    "# 将下500张猫图像复制到validation_cats_dir\n",
    "fnames = ['cat.{}.jpg'.format(i) for i in range(1000, 1500)]\n",
    "for fname in fnames:\n",
    "    src = os.path.join(original_dataset_dir, fname)\n",
    "    dst = os.path.join(validation_cats_dir, fname)\n",
    "    shutil.copyfile(src, dst)\n",
    "    \n",
    "# 将下500张猫图像复制到test_cats_dir\n",
    "fnames = ['cat.{}.jpg'.format(i) for i in range(1500, 2000)]\n",
    "for fname in fnames:\n",
    "    src = os.path.join(original_dataset_dir, fname)\n",
    "    dst = os.path.join(test_cats_dir, fname)\n",
    "    shutil.copyfile(src, dst)\n",
    "    \n",
    "# 将前1000张狗图像复制到train_dogs_dir\n",
    "fnames = ['dog.{}.jpg'.format(i) for i in range(1000)]\n",
    "for fname in fnames:\n",
    "    src = os.path.join(original_dataset_dir, fname)\n",
    "    dst = os.path.join(train_dogs_dir, fname)\n",
    "    shutil.copyfile(src, dst)\n",
    "    \n",
    "# 将下500张狗图像复制到validation_dogs_dir\n",
    "fnames = ['dog.{}.jpg'.format(i) for i in range(1000, 1500)]\n",
    "for fname in fnames:\n",
    "    src = os.path.join(original_dataset_dir, fname)\n",
    "    dst = os.path.join(validation_dogs_dir, fname)\n",
    "    shutil.copyfile(src, dst)\n",
    "    \n",
    "# 将下500张狗图像复制到test_dogs_dir\n",
    "fnames = ['dog.{}.jpg'.format(i) for i in range(1500, 2000)]\n",
    "for fname in fnames:\n",
    "    src = os.path.join(original_dataset_dir, fname)\n",
    "    dst = os.path.join(test_dogs_dir, fname)\n",
    "    shutil.copyfile(src, dst)\n"
   ]
  },
  {
   "cell_type": "code",
   "execution_count": 5,
   "id": "d2e65366-8e37-4730-982e-aacf64367dc9",
   "metadata": {},
   "outputs": [
    {
     "name": "stdout",
     "output_type": "stream",
     "text": [
      "total training cat images: 1000\n",
      "total training dog images: 1000\n",
      "total validation cat images: 500\n",
      "total validation dog images: 500\n",
      "total test cat images: 500\n",
      "total test dog images: 500\n"
     ]
    }
   ],
   "source": [
    "#输出数据集对应目录下图片数量\n",
    "print('total training cat images:', len(os.listdir(train_cats_dir)))\n",
    "print('total training dog images:', len(os.listdir(train_dogs_dir)))\n",
    "print('total validation cat images:', len(os.listdir(validation_cats_dir)))\n",
    "print('total validation dog images:', len(os.listdir(validation_dogs_dir)))\n",
    "print('total test cat images:', len(os.listdir(test_cats_dir)))\n",
    "print('total test dog images:', len(os.listdir(test_dogs_dir)))\n"
   ]
  },
  {
   "cell_type": "code",
   "execution_count": 6,
   "id": "efaafe8b-470a-4067-88c9-8c243b47b678",
   "metadata": {},
   "outputs": [],
   "source": [
    "#网络模型构建\n",
    "from keras import layers\n",
    "from keras import models\n",
    "#keras的序贯模型\n",
    "model = models.Sequential()\n",
    "#卷积层，卷积核是3*3，激活函数relu\n",
    "model.add(layers.Conv2D(32, (3, 3), activation='relu',\n",
    "                        input_shape=(150, 150, 3)))\n",
    "#最大池化层\n",
    "model.add(layers.MaxPooling2D((2, 2)))\n",
    "#卷积层，卷积核2*2，激活函数relu\n",
    "model.add(layers.Conv2D(64, (3, 3), activation='relu'))\n",
    "#最大池化层\n",
    "model.add(layers.MaxPooling2D((2, 2)))\n",
    "#卷积层，卷积核是3*3，激活函数relu\n",
    "model.add(layers.Conv2D(128, (3, 3), activation='relu'))\n",
    "#最大池化层\n",
    "model.add(layers.MaxPooling2D((2, 2)))\n",
    "#卷积层，卷积核是3*3，激活函数relu\n",
    "model.add(layers.Conv2D(128, (3, 3), activation='relu'))\n",
    "#最大池化层\n",
    "model.add(layers.MaxPooling2D((2, 2)))\n",
    "#flatten层，用于将多维的输入一维化，用于卷积层和全连接层的过渡\n",
    "model.add(layers.Flatten())\n",
    "#全连接，激活函数relu\n",
    "model.add(layers.Dense(512, activation='relu'))\n",
    "#全连接，激活函数sigmoid\n",
    "model.add(layers.Dense(1, activation='sigmoid'))\n"
   ]
  },
  {
   "cell_type": "code",
   "execution_count": 7,
   "id": "88201b8b-e0a3-4b93-9cb0-d25ee6b0f779",
   "metadata": {},
   "outputs": [
    {
     "name": "stdout",
     "output_type": "stream",
     "text": [
      "Model: \"sequential\"\n",
      "_________________________________________________________________\n",
      "Layer (type)                 Output Shape              Param #   \n",
      "=================================================================\n",
      "conv2d (Conv2D)              (None, 148, 148, 32)      896       \n",
      "_________________________________________________________________\n",
      "max_pooling2d (MaxPooling2D) (None, 74, 74, 32)        0         \n",
      "_________________________________________________________________\n",
      "conv2d_1 (Conv2D)            (None, 72, 72, 64)        18496     \n",
      "_________________________________________________________________\n",
      "max_pooling2d_1 (MaxPooling2 (None, 36, 36, 64)        0         \n",
      "_________________________________________________________________\n",
      "conv2d_2 (Conv2D)            (None, 34, 34, 128)       73856     \n",
      "_________________________________________________________________\n",
      "max_pooling2d_2 (MaxPooling2 (None, 17, 17, 128)       0         \n",
      "_________________________________________________________________\n",
      "conv2d_3 (Conv2D)            (None, 15, 15, 128)       147584    \n",
      "_________________________________________________________________\n",
      "max_pooling2d_3 (MaxPooling2 (None, 7, 7, 128)         0         \n",
      "_________________________________________________________________\n",
      "flatten (Flatten)            (None, 6272)              0         \n",
      "_________________________________________________________________\n",
      "dense (Dense)                (None, 512)               3211776   \n",
      "_________________________________________________________________\n",
      "dense_1 (Dense)              (None, 1)                 513       \n",
      "=================================================================\n",
      "Total params: 3,453,121\n",
      "Trainable params: 3,453,121\n",
      "Non-trainable params: 0\n",
      "_________________________________________________________________\n"
     ]
    }
   ],
   "source": [
    "#输出模型各层的参数状况\n",
    "model.summary()\n"
   ]
  },
  {
   "cell_type": "code",
   "execution_count": 21,
   "id": "de17e40a-b97c-4cee-a052-83a7e4aa0ff1",
   "metadata": {},
   "outputs": [],
   "source": [
    "import tensorflow\n",
    "from tensorflow.keras import optimizers\n",
    "model.compile(loss='binary_crossentropy',\n",
    "              optimizer='rmsprop',\n",
    "              metrics=['acc'])\n"
   ]
  },
  {
   "cell_type": "code",
   "execution_count": 23,
   "id": "2409cc06-d02d-4263-9807-38925c6144c7",
   "metadata": {},
   "outputs": [
    {
     "name": "stdout",
     "output_type": "stream",
     "text": [
      "Found 2000 images belonging to 2 classes.\n",
      "Found 1000 images belonging to 2 classes.\n"
     ]
    }
   ],
   "source": [
    "from keras.preprocessing.image import ImageDataGenerator\n",
    "\n",
    "# 所有图像将按1/255重新缩放\n",
    "train_datagen = ImageDataGenerator(rescale=1./255)\n",
    "test_datagen = ImageDataGenerator(rescale=1./255)\n",
    "\n",
    "train_generator = train_datagen.flow_from_directory(\n",
    "        # 这是目标目录\n",
    "        train_dir,\n",
    "        # 所有图像将调整为150x150\n",
    "        target_size=(150, 150),\n",
    "        batch_size=20,\n",
    "        # 因为我们使用二元交叉熵损失，我们需要二元标签\n",
    "        class_mode='binary')\n",
    "\n",
    "validation_generator = test_datagen.flow_from_directory(\n",
    "        validation_dir,\n",
    "        target_size=(150, 150),\n",
    "        batch_size=20,\n",
    "        class_mode='binary')\n",
    "\n"
   ]
  },
  {
   "cell_type": "code",
   "execution_count": 24,
   "id": "8216a727-7219-413d-9219-d6ba98e17200",
   "metadata": {},
   "outputs": [
    {
     "name": "stdout",
     "output_type": "stream",
     "text": [
      "data batch shape: (20, 150, 150, 3)\n",
      "labels batch shape: (20,)\n"
     ]
    }
   ],
   "source": [
    "#查看上面对于图片预处理的处理结果\n",
    "for data_batch, labels_batch in train_generator:\n",
    "    print('data batch shape:', data_batch.shape)\n",
    "    print('labels batch shape:', labels_batch.shape)\n",
    "    break\n"
   ]
  },
  {
   "cell_type": "code",
   "execution_count": 25,
   "id": "6ad6bb33-acaf-4a31-8edf-f97fd2216039",
   "metadata": {},
   "outputs": [
    {
     "name": "stderr",
     "output_type": "stream",
     "text": [
      "C:\\Users\\hank\\anaconda3\\lib\\site-packages\\keras\\engine\\training.py:1915: UserWarning: `Model.fit_generator` is deprecated and will be removed in a future version. Please use `Model.fit`, which supports generators.\n",
      "  warnings.warn('`Model.fit_generator` is deprecated and '\n"
     ]
    },
    {
     "name": "stdout",
     "output_type": "stream",
     "text": [
      "Epoch 1/30\n",
      "100/100 [==============================] - 35s 157ms/step - loss: 1.1195 - acc: 0.5341 - val_loss: 0.6924 - val_acc: 0.5000\n",
      "Epoch 2/30\n",
      "100/100 [==============================] - 6s 59ms/step - loss: 0.7169 - acc: 0.5373 - val_loss: 0.6804 - val_acc: 0.5620\n",
      "Epoch 3/30\n",
      "100/100 [==============================] - 6s 60ms/step - loss: 0.6600 - acc: 0.6346 - val_loss: 0.6152 - val_acc: 0.6750\n",
      "Epoch 4/30\n",
      "100/100 [==============================] - 6s 58ms/step - loss: 0.6210 - acc: 0.6812 - val_loss: 0.6253 - val_acc: 0.6260\n",
      "Epoch 5/30\n",
      "100/100 [==============================] - 6s 58ms/step - loss: 0.5515 - acc: 0.7087 - val_loss: 0.5931 - val_acc: 0.6930\n",
      "Epoch 6/30\n",
      "100/100 [==============================] - 6s 60ms/step - loss: 0.5171 - acc: 0.7514 - val_loss: 0.6456 - val_acc: 0.6980\n",
      "Epoch 7/30\n",
      "100/100 [==============================] - 6s 58ms/step - loss: 0.4917 - acc: 0.7560 - val_loss: 0.6189 - val_acc: 0.7140\n",
      "Epoch 8/30\n",
      "100/100 [==============================] - 6s 59ms/step - loss: 0.4175 - acc: 0.7978 - val_loss: 0.6711 - val_acc: 0.7160\n",
      "Epoch 9/30\n",
      "100/100 [==============================] - 6s 57ms/step - loss: 0.3483 - acc: 0.8360 - val_loss: 0.6085 - val_acc: 0.7250\n",
      "Epoch 10/30\n",
      "100/100 [==============================] - 6s 58ms/step - loss: 0.3296 - acc: 0.8506 - val_loss: 0.7203 - val_acc: 0.7340\n",
      "Epoch 11/30\n",
      "100/100 [==============================] - 6s 59ms/step - loss: 0.2765 - acc: 0.8861 - val_loss: 0.7117 - val_acc: 0.7230\n",
      "Epoch 12/30\n",
      "100/100 [==============================] - 6s 58ms/step - loss: 0.1799 - acc: 0.9367 - val_loss: 0.7142 - val_acc: 0.7370\n",
      "Epoch 13/30\n",
      "100/100 [==============================] - 6s 59ms/step - loss: 0.1650 - acc: 0.9355 - val_loss: 0.9701 - val_acc: 0.7380\n",
      "Epoch 14/30\n",
      "100/100 [==============================] - 6s 60ms/step - loss: 0.1618 - acc: 0.9437 - val_loss: 0.8663 - val_acc: 0.7330\n",
      "Epoch 15/30\n",
      "100/100 [==============================] - 6s 58ms/step - loss: 0.0893 - acc: 0.9700 - val_loss: 0.9458 - val_acc: 0.7220\n",
      "Epoch 16/30\n",
      "100/100 [==============================] - 6s 59ms/step - loss: 0.0774 - acc: 0.9727 - val_loss: 1.3411 - val_acc: 0.7420\n",
      "Epoch 17/30\n",
      "100/100 [==============================] - 6s 59ms/step - loss: 0.1034 - acc: 0.9566 - val_loss: 1.5295 - val_acc: 0.7240\n",
      "Epoch 18/30\n",
      "100/100 [==============================] - 6s 59ms/step - loss: 0.0648 - acc: 0.9832 - val_loss: 1.3606 - val_acc: 0.7230\n",
      "Epoch 19/30\n",
      "100/100 [==============================] - 6s 60ms/step - loss: 0.0537 - acc: 0.9876 - val_loss: 1.9106 - val_acc: 0.7340\n",
      "Epoch 20/30\n",
      "100/100 [==============================] - 6s 59ms/step - loss: 0.0452 - acc: 0.9859 - val_loss: 1.5473 - val_acc: 0.7210\n",
      "Epoch 21/30\n",
      "100/100 [==============================] - 6s 59ms/step - loss: 0.0584 - acc: 0.9782 - val_loss: 2.2204 - val_acc: 0.7250\n",
      "Epoch 22/30\n",
      "100/100 [==============================] - 6s 60ms/step - loss: 0.0582 - acc: 0.9850 - val_loss: 1.8741 - val_acc: 0.7170\n",
      "Epoch 23/30\n",
      "100/100 [==============================] - 6s 59ms/step - loss: 0.0270 - acc: 0.9950 - val_loss: 2.3571 - val_acc: 0.7230\n",
      "Epoch 24/30\n",
      "100/100 [==============================] - 6s 60ms/step - loss: 0.0564 - acc: 0.9793 - val_loss: 2.4823 - val_acc: 0.7370\n",
      "Epoch 25/30\n",
      "100/100 [==============================] - 6s 60ms/step - loss: 0.0897 - acc: 0.9741 - val_loss: 2.5828 - val_acc: 0.7320\n",
      "Epoch 26/30\n",
      "100/100 [==============================] - 6s 59ms/step - loss: 0.0616 - acc: 0.9836 - val_loss: 2.3346 - val_acc: 0.7100\n",
      "Epoch 27/30\n",
      "100/100 [==============================] - 6s 61ms/step - loss: 0.0214 - acc: 0.9928 - val_loss: 2.4001 - val_acc: 0.7510\n",
      "Epoch 28/30\n",
      "100/100 [==============================] - 6s 61ms/step - loss: 0.0261 - acc: 0.9935 - val_loss: 2.5010 - val_acc: 0.7160\n",
      "Epoch 29/30\n",
      "100/100 [==============================] - 6s 59ms/step - loss: 0.0392 - acc: 0.9922 - val_loss: 2.7457 - val_acc: 0.7240\n",
      "Epoch 30/30\n",
      "100/100 [==============================] - 6s 60ms/step - loss: 0.0210 - acc: 0.9949 - val_loss: 2.8617 - val_acc: 0.7160\n"
     ]
    }
   ],
   "source": [
    "#模型训练过程\n",
    "history = model.fit_generator(\n",
    "      train_generator,\n",
    "      steps_per_epoch=100,\n",
    "      epochs=30,\n",
    "      validation_data=validation_generator,\n",
    "      validation_steps=50)\n"
   ]
  },
  {
   "cell_type": "code",
   "execution_count": 26,
   "id": "ca581de8-1b97-4dd2-9e00-e687bf96ec37",
   "metadata": {},
   "outputs": [],
   "source": [
    "#保存训练得到的的模型\n",
    "model.save('C:\\\\Users\\\\hank\\\\Desktop\\\\dogs-vs-cats\\\\cats_and_dogs_small_1.h5')\n"
   ]
  },
  {
   "cell_type": "code",
   "execution_count": 27,
   "id": "6e3ba7a8-be0b-45e8-bb55-ddba7e8934b5",
   "metadata": {},
   "outputs": [
    {
     "data": {
      "image/png": "[encoded data removed]",
      "text/plain": [
       "<Figure size 432x288 with 1 Axes>"
      ]
     },
     "metadata": {
      "needs_background": "light"
     },
     "output_type": "display_data"
    },
    {
     "data": {
      "image/png": "[encoded data removed]",
      "text/plain": [
       "<Figure size 432x288 with 1 Axes>"
      ]
     },
     "metadata": {
      "needs_background": "light"
     },
     "output_type": "display_data"
    }
   ],
   "source": [
    "#对于模型进行评估，查看预测的准确性\n",
    "import matplotlib.pyplot as plt\n",
    "\n",
    "acc = history.history['acc']\n",
    "val_acc = history.history['val_acc']\n",
    "loss = history.history['loss']\n",
    "val_loss = history.history['val_loss']\n",
    "\n",
    "epochs = range(len(acc))\n",
    "\n",
    "plt.plot(epochs, acc, 'bo', label='Training acc')\n",
    "plt.plot(epochs, val_acc, 'b', label='Validation acc')\n",
    "plt.title('Training and validation accuracy')\n",
    "plt.legend()\n",
    "\n",
    "plt.figure()\n",
    "\n",
    "plt.plot(epochs, loss, 'bo', label='Training loss')\n",
    "plt.plot(epochs, val_loss, 'b', label='Validation loss')\n",
    "plt.title('Training and validation loss')\n",
    "plt.legend()\n",
    "\n",
    "plt.show()\n"
   ]
  },
  {
   "cell_type": "code",
   "execution_count": null,
   "id": "8ec16142-f16b-4939-b07f-b28eaeed788c",
   "metadata": {},
   "outputs": [],
   "source": []
  }
 ],
 "metadata": {
  "kernelspec": {
   "display_name": "Python 3 (ipykernel)",
   "language": "python",
   "name": "python3"
  },
  "language_info": {
   "codemirror_mode": {
    "name": "ipython",
    "version": 3
   },
   "file_extension": ".py",
   "mimetype": "text/x-python",
   "name": "python",
   "nbconvert_exporter": "python",
   "pygments_lexer": "ipython3",
   "version": "3.9.12"
  }
 },
 "nbformat": 4,
 "nbformat_minor": 5
}
